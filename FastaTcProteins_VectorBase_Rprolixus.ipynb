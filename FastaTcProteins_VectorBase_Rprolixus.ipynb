{
 "cells": [
  {
   "cell_type": "code",
   "execution_count": 2,
   "id": "a56195d7-4974-4380-855c-b5424ee64494",
   "metadata": {},
   "outputs": [],
   "source": [
    "import csv\n",
    "import os\n",
    "import re\n",
    "import pandas as pd"
   ]
  },
  {
   "cell_type": "code",
   "execution_count": 8,
   "id": "09529c29-0c82-4b21-9b46-452bcfefd54f",
   "metadata": {},
   "outputs": [
    {
     "name": "stdout",
     "output_type": "stream",
     "text": [
      "['>RPRC011265-PA | transcript=RPRC011265-RA | gene=RPRC011265 | organism=Rhodnius_prolixus_CDC | gene_product=Protein kinase domain-containing protein (Fragment) [Source:UniProtKB/TrEMBL;Acc:T1I4P6] | transcript_product=Protein kinase domain-containing protein (Fragment) [Source:UniProtKB/TrEMBL;Acc:T1I4P6] | location=ACPB03022837:44182-49637(+) | protein_length=283 | sequence_SO=supercontig | SO=protein_coding_gene | is_pseudo=false\\n']\n"
     ]
    }
   ],
   "source": [
    "f3 = open(\"VectorBaseDB/VectorBase-68_RprolixusCDC_AnnotatedProteins.fasta\", \"r\")\n",
    "print(f3.readlines(10))\n",
    "f3.close()"
   ]
  },
  {
   "cell_type": "code",
   "execution_count": 10,
   "id": "91dae6df-03e0-4fd9-800c-9b64a206a447",
   "metadata": {},
   "outputs": [],
   "source": [
    "# Especifica la carpeta que contiene los archivos FASTA\n",
    "folder_path = \"VectorBaseDB/\"\n",
    "output_file = \"VectorBaseDB/VectorBase_RprolixusCDC_AnnotatedProteins.tsv\"\n",
    "\n",
    "# Expresión regular para extraer el identificador de la proteína\n",
    "pattern = r'Acc:([^]]+)'\n",
    "protein_ids = []\n",
    "\n",
    "# Recorre todos los archivos en la carpeta\n",
    "for filename in os.listdir(folder_path):\n",
    "    if filename.endswith(\".fasta\"):\n",
    "        with open(os.path.join(folder_path, filename), \"r\") as f:\n",
    "            lines = f.readlines()\n",
    "            for line in lines:\n",
    "                match = re.search(pattern, line)\n",
    "                if match:\n",
    "                    protein_ids.append(match.group(1))\n",
    "\n",
    "# Eliminar elementos repetidos\n",
    "unique_protein_ids = list(set(protein_ids))\n",
    "\n",
    "# Guardar solo la columna de proteínas sin encabezado\n",
    "os.makedirs(os.path.dirname(output_file), exist_ok=True)\n",
    "with open(output_file, 'w') as f:\n",
    "    f.write(\"\\n\".join(unique_protein_ids))"
   ]
  },
  {
   "cell_type": "code",
   "execution_count": 14,
   "id": "4e672733-8115-4dd3-bfc8-86407a0d99b0",
   "metadata": {},
   "outputs": [],
   "source": [
    "# Leer el archivo resultante\n",
    "protein_df = pd.read_csv(\"VectorBaseDB/VectorBase_RprolixusCDC_AnnotatedProteins.tsv\", sep='\\t', header=None)\n",
    "\n",
    "# Crear un nuevo DataFrame con las dos columnas\n",
    "protein_df_new = pd.DataFrame({\n",
    "    'Protein_ID': protein_df[0] + \"_RHOPR\",  # Agregar \"_RHOPR\" al final de cada Protein_ID\n",
    "    'Taxon_ID': ['13249'] * len(protein_df)  # Asignar 13249 a todas las filas\n",
    "})\n",
    "\n",
    "# Guardar el nuevo archivo\n",
    "protein_df_new.to_csv(\"Combined_Proteins_DB/combined_Proteins_VectorBase_Rprolixus.tsv.tsv\", sep='\\t', index=False)"
   ]
  }
 ],
 "metadata": {
  "kernelspec": {
   "display_name": "Python 3 (ipykernel)",
   "language": "python",
   "name": "python3"
  },
  "language_info": {
   "codemirror_mode": {
    "name": "ipython",
    "version": 3
   },
   "file_extension": ".py",
   "mimetype": "text/x-python",
   "name": "python",
   "nbconvert_exporter": "python",
   "pygments_lexer": "ipython3",
   "version": "3.10.9"
  }
 },
 "nbformat": 4,
 "nbformat_minor": 5
}

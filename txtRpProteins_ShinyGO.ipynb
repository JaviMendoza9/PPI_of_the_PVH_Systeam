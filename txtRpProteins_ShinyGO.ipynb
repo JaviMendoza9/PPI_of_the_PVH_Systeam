{
 "cells": [
  {
   "cell_type": "code",
   "execution_count": 1,
   "id": "0b9ffe06-ebea-4d74-ba25-6e596e9304bb",
   "metadata": {},
   "outputs": [],
   "source": [
    "import pandas as pd"
   ]
  },
  {
   "cell_type": "code",
   "execution_count": 2,
   "id": "3706ec68-b13d-47d2-8384-f19684f2e917",
   "metadata": {},
   "outputs": [],
   "source": [
    "# Leer el archivo resultante\n",
    "protein_df = pd.read_csv(\"ShinyGo/VectorBase_Rprolixus_SinProteinID.tsv\", sep='\\t', header=None)\n",
    "\n",
    "# Crear un nuevo DataFrame con las dos columnas\n",
    "protein_df_new = pd.DataFrame({\n",
    "    'Protein_ID': protein_df[0] + \"_RHOPR\",  \n",
    "    'Taxon_ID': ['13249'] * len(protein_df)  \n",
    "})\n",
    "\n",
    "# Guardar el nuevo archivo\n",
    "protein_df_new.to_csv(\"Combined_Proteins_DB/VectorBase_Rprolixus_ShinyGO.tsv\", sep='\\t', index=False)"
   ]
  }
 ],
 "metadata": {
  "kernelspec": {
   "display_name": "Python 3 (ipykernel)",
   "language": "python",
   "name": "python3"
  },
  "language_info": {
   "codemirror_mode": {
    "name": "ipython",
    "version": 3
   },
   "file_extension": ".py",
   "mimetype": "text/x-python",
   "name": "python",
   "nbconvert_exporter": "python",
   "pygments_lexer": "ipython3",
   "version": "3.10.9"
  }
 },
 "nbformat": 4,
 "nbformat_minor": 5
}

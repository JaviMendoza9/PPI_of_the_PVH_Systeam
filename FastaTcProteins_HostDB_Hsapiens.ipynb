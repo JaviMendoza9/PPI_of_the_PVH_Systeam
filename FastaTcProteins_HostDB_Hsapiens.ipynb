{
 "cells": [
  {
   "cell_type": "code",
   "execution_count": 1,
   "id": "9dc89efe-b12c-4707-9478-2661dc5633fc",
   "metadata": {},
   "outputs": [],
   "source": [
    "import csv\n",
    "import os\n",
    "import re\n",
    "#import time\n",
    "import pandas as pd"
   ]
  },
  {
   "cell_type": "code",
   "execution_count": 2,
   "id": "1d75b833-d878-4b5d-ad37-e1a731780626",
   "metadata": {},
   "outputs": [
    {
     "name": "stdout",
     "output_type": "stream",
     "text": [
      "['>ENSP00000003583 | transcript=ENST00000003583 | gene=ENSG00000001460 | organism=Homo_sapiens_REF | gene_product=sperm tail PG-rich repeat containing 1 [Source:HGNC Symbol;Acc:HGNC:28070] | transcript_product=sperm tail PG-rich repeat containing 1 [Source:HGNC Symbol;Acc:HGNC:28070] | location=hsapREF_chr1:24358543-24401366(-) | protein_length=287 | sequence_SO=chromosome | SO=protein_coding_gene | is_pseudo=false\\n']\n"
     ]
    }
   ],
   "source": [
    "f = open(\"Host_DB/Proteins_HostDB_Hsapiens/HostDB-68_HsapiensREF_AnnotatedProteins.fasta\", \"r\")\n",
    "\n",
    "print(f.readlines(10))\n",
    "\n",
    "f.close()"
   ]
  },
  {
   "cell_type": "code",
   "execution_count": 13,
   "id": "f00bf858-07ff-4fd4-a96f-7d48fa0d6a56",
   "metadata": {},
   "outputs": [],
   "source": [
    "input_folder = output_folder = \"Host_DB/Proteins_HostDB_Hsapiens\"\n",
    "\n",
    "# Obtener la lista de archivos .fasta en la carpeta\n",
    "fasta_files = sorted([f for f in os.listdir(input_folder) if f.endswith(\".fasta\")])\n",
    "\n",
    "# Expresión regular mejorada para capturar solo los transcript que empiezan con ENST\n",
    "pattern = re.compile(r'transcript=(ENST[0-9]+)')\n",
    "\n",
    "# Procesar cada archivo .fasta\n",
    "for fasta_file in fasta_files:\n",
    "    input_path = os.path.join(input_folder, fasta_file)\n",
    "\n",
    "    # Obtener el número del archivo (usando una expresión regular para extraer el número de HostDB)\n",
    "    match = re.search(r'HostDB-(\\d+)', fasta_file)\n",
    "    if match:\n",
    "        file_number = match.group(1)  # Número del archivo, como '49'\n",
    "    else:\n",
    "        file_number = 'unknown'  # Si no se encuentra el número, usar un valor por defecto\n",
    "\n",
    "    output_path = os.path.join(output_folder, f\"HostDB-{file_number}_Hsapiens.txt\")\n",
    "\n",
    "    transcript_ids = set()  # Usar un conjunto para asegurar unicidad\n",
    "\n",
    "    with open(input_path, \"r\") as f:\n",
    "        for line in f:\n",
    "            match = pattern.search(line)\n",
    "            if match:\n",
    "                transcript_ids.add(match.group(1).strip())  # Limpiar espacios en blanco extra\n",
    "\n",
    "    # Guardar los resultados en un archivo .txt con el formato adecuado\n",
    "    with open(output_path, \"w\") as out_f:\n",
    "        out_f.write(\"Transcript_ID\\tTaxon_ID\\n\")\n",
    "        for transcript_id in sorted(transcript_ids):  # Ordenar por claridad\n",
    "            out_f.write(f\"{transcript_id}\\t9606\\n\")"
   ]
  },
  {
   "cell_type": "code",
   "execution_count": 6,
   "id": "a1389cf5-e05f-48ec-ac5e-c82270348d38",
   "metadata": {},
   "outputs": [],
   "source": [
    "input_folder = \"Host_DB/Proteins_HostDB_Hsapiens\"\n",
    "combined_output_path = \"Host_DB/Proteins_HostDB_Hsapiens/combined_transcripts_hostDB_Hsapiens.txt\"\n",
    "\n",
    "# Obtener todos los archivos .txt en la carpeta\n",
    "txt_files = [f for f in os.listdir(input_folder) if f.endswith(\".txt\")]\n",
    "\n",
    "# Crear una lista para almacenar todas las líneas\n",
    "combined_data = []\n",
    "\n",
    "# Procesar cada archivo .txt\n",
    "for txt_file in txt_files:\n",
    "    input_path = os.path.join(input_folder, txt_file)\n",
    "    \n",
    "    with open(input_path, \"r\") as f:\n",
    "        # Agregar todas las líneas, omitiendo el encabezado de los archivos adicionales\n",
    "        if combined_data:\n",
    "            combined_data.extend(f.readlines()[1:])  # Omitir el encabezado\n",
    "        else:\n",
    "            combined_data.extend(f.readlines())  # Incluir el encabezado del primer archivo\n",
    "\n",
    "# Guardar el archivo combinado\n",
    "with open(combined_output_path, \"w\") as combined_file:\n",
    "    combined_file.writelines(combined_data)"
   ]
  },
  {
   "cell_type": "code",
   "execution_count": 7,
   "id": "05900127-1161-4168-a54f-55e7e4724264",
   "metadata": {},
   "outputs": [],
   "source": [
    "# Ruta del archivo original y del archivo de salida\n",
    "input_file = \"Host_DB/Proteins_HostDB_Hsapiens/combined_transcripts_HostDB_Hsapiens.txt\"\n",
    "output_file = \"Host_DB/Proteins_HostDB_Hsapiens/updated_transcripts_HostDB_Hsapiens.txt\"\n",
    "\n",
    "# Leer el archivo original\n",
    "with open(input_file, \"r\") as f:\n",
    "    lines = f.readlines()\n",
    "\n",
    "# Abrir el archivo de salida para escribir los datos actualizados\n",
    "with open(output_file, \"w\") as out_f:\n",
    "    # Escribir el encabezado (sin modificarlo)\n",
    "    out_f.write(lines[0])\n",
    "\n",
    "    # Iterar sobre las líneas, comenzando desde la segunda (omitiendo el encabezado)\n",
    "    for line in lines[1:]:\n",
    "        columns = line.strip().split(\"\\t\")  # Separar por tabulaciones\n",
    "        columns[0] = \"9606.\" + columns[0]  # Agregar el prefijo a Transcript_ID\n",
    "        out_f.write(\"\\t\".join(columns) + \"\\n\")  # Escribir la línea modificada"
   ]
  },
  {
   "cell_type": "code",
   "execution_count": 8,
   "id": "7f60100a-64c5-49b7-8c71-3bbf5a01619a",
   "metadata": {},
   "outputs": [],
   "source": [
    "# Ruta del archivo original y del archivo de salida\n",
    "input_file = \"Host_DB/Proteins_HostDB_Hsapiens/updated_transcripts_HostDB_Hsapiens.txt\"\n",
    "output_file = \"Host_DB/Proteins_HostDB_Hsapiens/modified_transcripts_HostDB_Hsapiens.txt\"\n",
    "\n",
    "# Leer el archivo original\n",
    "with open(input_file, \"r\") as f:\n",
    "    lines = f.readlines()\n",
    "\n",
    "# Abrir el archivo de salida para escribir los datos actualizados\n",
    "with open(output_file, \"w\") as out_f:\n",
    "    # Escribir el encabezado (sin modificarlo)\n",
    "    out_f.write(lines[0])\n",
    "\n",
    "    # Iterar sobre las líneas, comenzando desde la segunda (omitiendo el encabezado)\n",
    "    for line in lines[1:]:\n",
    "        columns = line.strip().split(\"\\t\")  # Separar por tabulaciones\n",
    "        columns[0] = columns[0].replace(\"9606.ENST\", \"9606.ENSP\")  # Reemplazar ENST por ENSP\n",
    "        out_f.write(\"\\t\".join(columns) + \"\\n\")  # Escribir la línea modificada"
   ]
  },
  {
   "cell_type": "code",
   "execution_count": 14,
   "id": "5bc29e13-dcda-4dab-9869-8c16634dc4e6",
   "metadata": {},
   "outputs": [],
   "source": [
    "# Cargar archivo con manejo de errores\n",
    "def cargar_csv(ruta, sep='\\t'):\n",
    "    try:\n",
    "        df = pd.read_csv(ruta, sep=sep)\n",
    "        return df\n",
    "    except FileNotFoundError:\n",
    "        print(f\"Error: El archivo {ruta} no se encontró.\")\n",
    "        return None\n",
    "    except pd.errors.ParserError:\n",
    "        print(\"Error: Hubo un problema al analizar el archivo.\")\n",
    "        return None\n",
    "\n",
    "# Comparar las columnas y guardar las coincidencias\n",
    "def comparar_y_guardar(df_transcripts, df_string, salida):\n",
    "    if df_transcripts is not None and df_string is not None:\n",
    "        # Filtrar filas donde las columnas de Transcript_ID y string_protein_id coinciden\n",
    "        coincidencias = df_transcripts[df_transcripts['Transcript_ID'].isin(df_string['string_protein_id'])]\n",
    "        \n",
    "        # Obtener los valores de preferred_name correspondientes a las coincidencias\n",
    "        resultados = df_string[df_string['string_protein_id'].isin(coincidencias['Transcript_ID'])]['preferred_name']\n",
    "        \n",
    "        # Guardar los resultados sin encabezado\n",
    "        resultados.to_csv(salida, index=False, header=False, sep='\\t')\n",
    "    else:\n",
    "        print(\"No se pudo realizar la comparación debido a un error al cargar los archivos.\")\n",
    "\n",
    "# Rutas de los archivos de entrada\n",
    "ruta_transcripts = \"Host_DB/Proteins_HostDB_Hsapiens/modified_transcripts_HostDB_Hsapiens.txt\"\n",
    "ruta_string = \"string_data/9606.protein.info.v12.0.txt\"\n",
    "\n",
    "# Ruta del archivo de salida\n",
    "salida_tsv = \"Host_DB/Proteins_HostDB_Hsapiens/Matched_Transcripts_StringDB.tsv\"\n",
    "\n",
    "# Cargar los archivos\n",
    "df_transcripts = cargar_csv(ruta_transcripts)\n",
    "df_string = cargar_csv(ruta_string)\n",
    "\n",
    "# Comparar y guardar resultados\n",
    "comparar_y_guardar(df_transcripts, df_string, salida_tsv)"
   ]
  }
 ],
 "metadata": {
  "kernelspec": {
   "display_name": "Python 3 (ipykernel)",
   "language": "python",
   "name": "python3"
  },
  "language_info": {
   "codemirror_mode": {
    "name": "ipython",
    "version": 3
   },
   "file_extension": ".py",
   "mimetype": "text/x-python",
   "name": "python",
   "nbconvert_exporter": "python",
   "pygments_lexer": "ipython3",
   "version": "3.10.9"
  }
 },
 "nbformat": 4,
 "nbformat_minor": 5
}

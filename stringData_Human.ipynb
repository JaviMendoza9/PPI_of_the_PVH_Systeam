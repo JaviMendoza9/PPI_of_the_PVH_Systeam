{
 "cells": [
  {
   "cell_type": "code",
   "execution_count": null,
   "id": "c5ced3c2-e539-41ee-afd1-15df4cdd3c23",
   "metadata": {},
   "outputs": [],
   "source": [
    "import requests\n",
    "import pandas as pd"
   ]
  },
  {
   "cell_type": "code",
   "execution_count": null,
   "id": "cdcae0a8-7287-441d-a525-534b968c7def",
   "metadata": {},
   "outputs": [],
   "source": [
    "# Leer el archivo con las interacciones de proteínas\n",
    "interactions_file = 'string_data/9606.protein.links.v12.0.txt'\n",
    "df_interactions = pd.read_csv(interactions_file, sep=' ', header=0, names=['protein1', 'protein2', 'combined_score'], encoding='utf-8')\n",
    "\n",
    "# Leer el archivo con el significado de las proteínas\n",
    "annotations_file = 'string_data/9606.protein.info.v12.0.txt'\n",
    "df_annotations = pd.read_csv(annotations_file, sep='\\t', encoding='utf-8')\n",
    "\n",
    "# Crear un diccionario para las traducciones de IDs a nombres\n",
    "id_to_name = pd.Series(df_annotations['preferred_name'].values, index=df_annotations['string_protein_id']).to_dict()\n",
    "\n",
    "# Reemplazar los IDs en el archivo de interacciones con los nombres preferidos\n",
    "df_interactions['protein1'] = df_interactions['protein1'].map(id_to_name).fillna(df_interactions['protein1'])\n",
    "df_interactions['protein2'] = df_interactions['protein2'].map(id_to_name).fillna(df_interactions['protein2'])\n",
    "\n",
    "# Agregar '_HUMAN' al final de cada valor en las columnas protein1 y protein2\n",
    "df_interactions['protein1'] = df_interactions['protein1'] + '_HUMAN'\n",
    "df_interactions['protein2'] = df_interactions['protein2'] + '_HUMAN'\n",
    "\n",
    "# Guardar el DataFrame combinado a un nuevo archivo .txt sin duplicar los títulos\n",
    "output_file = 'string_data/9606.translated_interactions_with_names.txt'\n",
    "df_interactions.to_csv(output_file, sep='\\t', index=False, encoding='utf-8')\n",
    "\n",
    "print(f\"Datos combinados con nombres y sufijos guardados en {output_file}\")"
   ]
  }
 ],
 "metadata": {
  "kernelspec": {
   "display_name": "Python 3 (ipykernel)",
   "language": "python",
   "name": "python3"
  },
  "language_info": {
   "codemirror_mode": {
    "name": "ipython",
    "version": 3
   },
   "file_extension": ".py",
   "mimetype": "text/x-python",
   "name": "python",
   "nbconvert_exporter": "python",
   "pygments_lexer": "ipython3",
   "version": "3.10.9"
  }
 },
 "nbformat": 4,
 "nbformat_minor": 5
}

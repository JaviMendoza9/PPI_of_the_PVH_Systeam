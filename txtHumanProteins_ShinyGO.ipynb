{
 "cells": [
  {
   "cell_type": "code",
   "execution_count": 1,
   "id": "16406413-7b2a-427a-8170-3d9466a4d61b",
   "metadata": {},
   "outputs": [],
   "source": [
    "import pandas as pd"
   ]
  },
  {
   "cell_type": "code",
   "execution_count": 2,
   "id": "b0ff5603-be23-4df5-89a4-b7c85ffb1ae6",
   "metadata": {},
   "outputs": [],
   "source": [
    "# Leer el archivo resultante\n",
    "protein_df = pd.read_csv(\"ShinyGo/HospederoBase_Human_SinProteinID2.tsv\", sep='\\t', header=None)\n",
    "\n",
    "# Crear un nuevo DataFrame con las dos columnas\n",
    "protein_df_new = pd.DataFrame({\n",
    "    'Protein_ID': protein_df[0] + \"_HUMAN\",  # Agregar \"_HUMAN\" al final de cada Protein_ID\n",
    "    'Taxon_ID': ['9606'] * len(protein_df)  # Asignar 9606 a todas las filas\n",
    "})\n",
    "\n",
    "# Guardar el nuevo archivo\n",
    "protein_df_new.to_csv(\"Combined_Proteins_DB/HospederoBase_Human_ShinyGO.tsv\", sep='\\t', index=False)"
   ]
  }
 ],
 "metadata": {
  "kernelspec": {
   "display_name": "Python 3 (ipykernel)",
   "language": "python",
   "name": "python3"
  },
  "language_info": {
   "codemirror_mode": {
    "name": "ipython",
    "version": 3
   },
   "file_extension": ".py",
   "mimetype": "text/x-python",
   "name": "python",
   "nbconvert_exporter": "python",
   "pygments_lexer": "ipython3",
   "version": "3.10.9"
  }
 },
 "nbformat": 4,
 "nbformat_minor": 5
}

{
 "cells": [
  {
   "cell_type": "code",
   "execution_count": null,
   "id": "811c559f-2c9a-4365-8236-c3e2e567b397",
   "metadata": {},
   "outputs": [],
   "source": [
    "import pandas as pd"
   ]
  },
  {
   "cell_type": "code",
   "execution_count": null,
   "id": "2ebc8ffa-8aa4-4363-b0d2-66151d511e33",
   "metadata": {},
   "outputs": [],
   "source": [
    "# Leer el archivo .tsv\n",
    "tsv_file = \"Host_DB/Chagas_metadata/Chagas_metadata.tsv\"\n",
    "df_tsv = pd.read_csv(tsv_file, sep='\\t')\n",
    "\n",
    "# Extraer la primera columna, convertirla a un set para eliminar duplicados\n",
    "protein_set = set(df_tsv.iloc[:, 0])\n",
    "\n",
    "# Guardar el resultado sin nombre de columna\n",
    "protein_df = pd.DataFrame(list(protein_set))\n",
    "protein_df.to_csv(\"Host_DB/Chagas_metadata/Chagas_metadata_Protein.tsv\", sep='\\t', index=False, header=False)"
   ]
  },
  {
   "cell_type": "code",
   "execution_count": 4,
   "id": "83e7a3f7-4b45-4545-a184-8b9489d13a44",
   "metadata": {},
   "outputs": [],
   "source": [
    "# Leer el archivo resultante\n",
    "protein_df = pd.read_csv(\"Host_DB/Chagas_metadata/Chagas_metadata_Protein.tsv\", sep='\\t', header=None)\n",
    "\n",
    "# Crear un nuevo DataFrame con las dos columnas\n",
    "protein_df_new = pd.DataFrame({\n",
    "    'Protein_ID': protein_df[0] + \"_HUMAN\",  # Agregar \"_HUMAN\" al final de cada Protein_ID\n",
    "    'Taxon_ID': ['9606'] * len(protein_df)  # Asignar 9606 a todas las filas\n",
    "})\n",
    "\n",
    "# Guardar el nuevo archivo\n",
    "protein_df_new.to_csv(\"Combined_Proteins_DB/Human_Proteins.tsv\", sep='\\t', index=False)"
   ]
  }
 ],
 "metadata": {
  "kernelspec": {
   "display_name": "Python 3 (ipykernel)",
   "language": "python",
   "name": "python3"
  },
  "language_info": {
   "codemirror_mode": {
    "name": "ipython",
    "version": 3
   },
   "file_extension": ".py",
   "mimetype": "text/x-python",
   "name": "python",
   "nbconvert_exporter": "python",
   "pygments_lexer": "ipython3",
   "version": "3.10.9"
  }
 },
 "nbformat": 4,
 "nbformat_minor": 5
}

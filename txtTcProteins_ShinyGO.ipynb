{
 "cells": [
  {
   "cell_type": "code",
   "execution_count": 3,
   "id": "5066f13b-7ee1-474b-b7fe-76e2fb7e9600",
   "metadata": {},
   "outputs": [],
   "source": [
    "import pandas as pd"
   ]
  },
  {
   "cell_type": "code",
   "execution_count": 4,
   "id": "d6a02c92-2e15-4c51-bd7b-ac28c3bfd6a8",
   "metadata": {},
   "outputs": [],
   "source": [
    "# Leer el archivo resultante\n",
    "protein_df = pd.read_csv(\"ShinyGo/PatogenoBase_Tcruzi_SinProteinID.tsv\", sep='\\t', header=None)\n",
    "\n",
    "# Crear un nuevo DataFrame con las dos columnas\n",
    "protein_df_new = pd.DataFrame({\n",
    "    'Protein_ID': protein_df[0] + \"_TRYCC\",  # Agregar \"_HUMAN\" al final de cada Protein_ID\n",
    "    'Taxon_ID': ['353153'] * len(protein_df)  # Asignar 9606 a todas las filas\n",
    "})\n",
    "\n",
    "# Guardar el nuevo archivo\n",
    "protein_df_new.to_csv(\"Combined_Proteins_DB/PatogenoBase_Tcruzi_ShinyGO.tsv\", sep='\\t', index=False)"
   ]
  }
 ],
 "metadata": {
  "kernelspec": {
   "display_name": "Python 3 (ipykernel)",
   "language": "python",
   "name": "python3"
  },
  "language_info": {
   "codemirror_mode": {
    "name": "ipython",
    "version": 3
   },
   "file_extension": ".py",
   "mimetype": "text/x-python",
   "name": "python",
   "nbconvert_exporter": "python",
   "pygments_lexer": "ipython3",
   "version": "3.10.9"
  }
 },
 "nbformat": 4,
 "nbformat_minor": 5
}
